{
 "cells": [
  {
   "cell_type": "code",
   "execution_count": null,
   "id": "b42ac0b2",
   "metadata": {},
   "outputs": [],
   "source": [
    "import gzip\n",
    "import pandas as pd\n",
    "import numpy as np"
   ]
  },
  {
   "cell_type": "markdown",
   "id": "f7c828f0",
   "metadata": {},
   "source": [
    "# User Reviews"
   ]
  },
  {
   "cell_type": "code",
   "execution_count": null,
   "id": "d16920e2",
   "metadata": {},
   "outputs": [],
   "source": [
    "%%time\n",
    "user_review_data = []\n",
    "f = gzip.open(\"data\\\\australian_user_reviews.json.gz\")\n",
    "for l in f:\n",
    "    d = eval(l)\n",
    "    user_review_data.append(d)\n",
    "\n",
    "f.close()"
   ]
  },
  {
   "cell_type": "code",
   "execution_count": null,
   "id": "599399cf",
   "metadata": {},
   "outputs": [],
   "source": [
    "%%time\n",
    "reviews_list = []\n",
    "for user_data in user_review_data:\n",
    "    reviews_list += [pd.DataFrame(user_data)]\n",
    "    \n",
    "user_reviews = pd.concat(reviews_list)\n",
    "user_reviews = pd.concat([user_reviews.drop(columns=['reviews']), user_reviews['reviews'].apply(pd.Series)], axis=1)\n",
    "user_reviews.head(5)"
   ]
  },
  {
   "cell_type": "code",
   "execution_count": null,
   "id": "b2bfc282",
   "metadata": {},
   "outputs": [],
   "source": [
    "user_reviews.to_csv('user_reviews.csv', index=False)"
   ]
  },
  {
   "cell_type": "markdown",
   "id": "1fe9b921",
   "metadata": {},
   "source": [
    "# User Games"
   ]
  },
  {
   "cell_type": "code",
   "execution_count": null,
   "id": "ddeb75c6",
   "metadata": {},
   "outputs": [],
   "source": [
    "%%time\n",
    "user_games_data = []\n",
    "\n",
    "f = gzip.open(\"data\\\\australian_users_items.json.gz\")\n",
    "for l in f:\n",
    "    d = eval(l)\n",
    "    user_games_data.append(d)\n",
    "        \n",
    "f.close()"
   ]
  },
  {
   "cell_type": "code",
   "execution_count": null,
   "id": "2735e060",
   "metadata": {},
   "outputs": [],
   "source": [
    "%%time\n",
    "user_games_list = []\n",
    "for user_data in user_games_data:\n",
    "    user_games_list += [pd.DataFrame(user_data)]\n",
    "    \n",
    "user_games = pd.concat(user_games_list)"
   ]
  },
  {
   "cell_type": "code",
   "execution_count": null,
   "id": "ef406964",
   "metadata": {},
   "outputs": [],
   "source": [
    "%%time\n",
    "j = 0\n",
    "counter = 1\n",
    "batch_size = 1_000_000\n",
    "for i in np.arange(batch_size,user_games.shape[0], batch_size):\n",
    "    \n",
    "    temp_df = pd.concat([user_games[j:i].drop(columns=['items']), user_games[j:i]['items'].apply(pd.Series)], axis=1)\n",
    "    temp_df.to_csv(f'ug{counter}.csv', index=False)\n",
    "\n",
    "    j=i\n",
    "    counter += 1\n",
    "    \n",
    "temp_df = pd.concat([user_games[j:user_games.shape[0]].drop(columns=['items']), user_games[j:user_games.shape[0]]['items'].apply(pd.Series)], axis=1)\n",
    "temp_df.to_csv(f'ug{counter}.csv', index=False)"
   ]
  },
  {
   "cell_type": "code",
   "execution_count": null,
   "id": "57ed5821",
   "metadata": {},
   "outputs": [],
   "source": [
    "ug_list = []\n",
    "\n",
    "for i in np.arange(1,counter+1):\n",
    "    ug_list += [pd.read_csv(f'ug{i}.csv')]\n",
    "    \n",
    "pd.concat(ug_list).to_csv('user_games.csv', index=False)"
   ]
  }
 ],
 "metadata": {
  "kernelspec": {
   "display_name": "Python 3 (ipykernel)",
   "language": "python",
   "name": "python3"
  },
  "language_info": {
   "codemirror_mode": {
    "name": "ipython",
    "version": 3
   },
   "file_extension": ".py",
   "mimetype": "text/x-python",
   "name": "python",
   "nbconvert_exporter": "python",
   "pygments_lexer": "ipython3",
   "version": "3.8.13"
  }
 },
 "nbformat": 4,
 "nbformat_minor": 5
}
