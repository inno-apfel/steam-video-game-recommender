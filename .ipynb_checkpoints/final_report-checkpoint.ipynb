{
 "cells": [
  {
   "cell_type": "markdown",
   "id": "278fdbf6",
   "metadata": {},
   "source": [
    "# 1. Data"
   ]
  },
  {
   "cell_type": "markdown",
   "id": "077e9b95",
   "metadata": {},
   "source": [
    "### 1.1 Normalization"
   ]
  },
  {
   "cell_type": "markdown",
   "id": "67f06edd",
   "metadata": {},
   "source": [
    "### 1.2 Cleaning and Imputation"
   ]
  },
  {
   "cell_type": "markdown",
   "id": "932830c2",
   "metadata": {},
   "source": [
    "# 2. Exploratory Data Analysis"
   ]
  },
  {
   "cell_type": "markdown",
   "id": "97b54dfb",
   "metadata": {},
   "source": []
  },
  {
   "cell_type": "markdown",
   "id": "bada16f0",
   "metadata": {},
   "source": []
  },
  {
   "cell_type": "markdown",
   "id": "48102948",
   "metadata": {},
   "source": []
  }
 ],
 "metadata": {
  "kernelspec": {
   "display_name": "Python 3 (ipykernel)",
   "language": "python",
   "name": "python3"
  },
  "language_info": {
   "codemirror_mode": {
    "name": "ipython",
    "version": 3
   },
   "file_extension": ".py",
   "mimetype": "text/x-python",
   "name": "python",
   "nbconvert_exporter": "python",
   "pygments_lexer": "ipython3",
   "version": "3.8.13"
  }
 },
 "nbformat": 4,
 "nbformat_minor": 5
}
